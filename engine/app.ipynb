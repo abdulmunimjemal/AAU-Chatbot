{
 "cells": [
  {
   "cell_type": "code",
   "execution_count": 1,
   "metadata": {},
   "outputs": [],
   "source": [
    "import nltk\n",
    "import numpy as np\n",
    "import pickle\n",
    "import json\n",
    "import random\n",
    "import os\n",
    "from keras.models import load_model\n",
    "from nltk.stem import WordNetLemmatizer\n",
    "from dotenv import load_dotenv"
   ]
  },
  {
   "cell_type": "code",
   "execution_count": 2,
   "metadata": {},
   "outputs": [],
   "source": [
    "lemmatizer = WordNetLemmatizer()"
   ]
  },
  {
   "cell_type": "code",
   "execution_count": 6,
   "metadata": {},
   "outputs": [],
   "source": [
    "# COMMON VARIABLES\n",
    "load_dotenv()\n",
    "intents_name = os.getenv(\"INTENT_FILE\")\n",
    "intents_path = os.getenv(\"INTENT_PATH\")\n",
    "intents_file = os.path.join(intents_path, intents_name)\n",
    "\n",
    "model_name = os.getenv(\"MODEL_NAME\")\n",
    "model_path = os.getenv(\"MODEL_PATH\")\n",
    "model_file = os.path.join(model_path, model_name)\n",
    "\n",
    "words_name = os.getenv(\"WORDS_FILE\")\n",
    "words_path = os.getenv(\"WORDS_PATH\")\n",
    "words_file = os.path.join(words_path, words_name)\n",
    "\n",
    "classes_name = os.getenv(\"CLASSES_FILE\")\n",
    "classes_path = os.getenv(\"CLASSES_PATH\")\n",
    "classes_file = os.path.join(classes_path, classes_name)"
   ]
  },
  {
   "cell_type": "code",
   "execution_count": 7,
   "metadata": {},
   "outputs": [],
   "source": [
    "# chat initialization\n",
    "model = load_model(model_file)\n",
    "intents = json.loads(open(intents_file).read())\n",
    "data_file = open(intents_file).read()\n",
    "words = pickle.load(open(words_file, \"rb\"))\n",
    "classes = pickle.load(open(classes_file, \"rb\"))"
   ]
  },
  {
   "cell_type": "code",
   "execution_count": 8,
   "metadata": {},
   "outputs": [],
   "source": [
    "# Chant Functionalities\n",
    "def clean_up_sentence(sentence):\n",
    "    sentence_words = nltk.word_tokenize(sentence)\n",
    "    sentence_words = [lemmatizer.lemmatize(word.lower()) for word in sentence_words]\n",
    "    return sentence_words\n",
    "\n",
    "\n",
    "# return bag of words array: 0 or 1 for each word in the bag that exists in the sentence\n",
    "def bow(sentence, words, show_details=True):\n",
    "    # tokenize the pattern\n",
    "    sentence_words = clean_up_sentence(sentence)\n",
    "    # bag of words - matrix of N words, vocabulary matrix\n",
    "    bag = [0] * len(words)\n",
    "    for s in sentence_words:\n",
    "        for i, w in enumerate(words):\n",
    "            if w == s:\n",
    "                # assign 1 if current word is in the vocabulary position\n",
    "                bag[i] = 1\n",
    "                if show_details:\n",
    "                    print(\"found in bag: %s\" % w)\n",
    "    return np.array(bag)\n",
    "\n",
    "\n",
    "def predict_class(sentence, model):\n",
    "    # filter out predictions below a threshold\n",
    "    p = bow(sentence, words, show_details=False)\n",
    "    res = model.predict(np.array([p]))[0]\n",
    "    ERROR_THRESHOLD = 0.25\n",
    "    results = [[i, r] for i, r in enumerate(res) if r > ERROR_THRESHOLD]\n",
    "    # sort by strength of probability\n",
    "    results.sort(key=lambda x: x[1], reverse=True)\n",
    "    return_list = []\n",
    "    for r in results:\n",
    "        return_list.append({\"intent\": classes[r[0]], \"probability\": str(r[1])})\n",
    "    return return_list\n",
    "\n",
    "\n",
    "def getResponse(ints, intents_json):\n",
    "    tag = ints[0][\"intent\"]\n",
    "    list_of_intents = intents_json[\"intents\"]\n",
    "    for i in list_of_intents:\n",
    "        if i[\"tag\"] == tag:\n",
    "            result = random.choice(i[\"responses\"])\n",
    "            break\n",
    "    return result"
   ]
  },
  {
   "cell_type": "code",
   "execution_count": 9,
   "metadata": {},
   "outputs": [],
   "source": [
    "def chatbot_response(msg):\n",
    "    ints = predict_class(msg, model)\n",
    "    res = getResponse(ints, intents)\n",
    "    return res"
   ]
  },
  {
   "cell_type": "code",
   "execution_count": 11,
   "metadata": {},
   "outputs": [
    {
     "name": "stdout",
     "output_type": "stream",
     "text": [
      "1/1 [==============================] - 0s 20ms/step\n",
      "Hi there! How can I help you?\n",
      "1/1 [==============================] - 0s 17ms/step\n",
      "Hi, {n}! What brings you here today?\n",
      "1/1 [==============================] - 0s 29ms/step\n",
      "Authentication (Degree or diploma): 100 birr per copy or 40 birr per copy for local or overseas orders, Identification card: 75 USD per copy or 25 birr per copy for local or overseas orders, Official Transcript: 40 birr for local orders, 60 birr for foreign orders, 100 birr for orders by delegation.\n",
      "1/1 [==============================] - 0s 17ms/step\n",
      "Masters Studies: Refugees (80 ETB Registration Fee, 214 ETB/ECTS Tuition Fee), IGAD members and Eastern African Countries (20 USD Registration Fee, 50 USD/ECTS Tuition Fee), Others (40 USD Registration Fee, 80 USD/ECTS Tuition Fee)\n",
      "1/1 [==============================] - 0s 18ms/step\n",
      "The AAiT Assistant Bot is continuously improving, but it may not have answers to every question. For further information, you can visit the official Addis Ababa Institute of Technology website at https://www.aaiT.edu.et/ or contact them at +251-11-232412.\n",
      "1/1 [==============================] - 0s 17ms/step\n",
      "I'm sorry, I couldn't understand your question. I am currently under heavy development and may not have answers to all questions. It will be improved over time as more data becomes available.\n",
      "1/1 [==============================] - 0s 21ms/step\n",
      "The AAiT Assistant Bot is continuously improving, but it may not have answers to every question. For further information, you can visit the official Addis Ababa Institute of Technology website at https://www.aaiT.edu.et/ or contact them at +251-11-232412.\n",
      "1/1 [==============================] - 0s 14ms/step\n",
      "The AAiT Assistant Bot is continuously improving, but it may not have answers to every question. For further information, you can visit the official Addis Ababa Institute of Technology website at https://www.aaiT.edu.et/ or contact them at +251-11-232412.\n"
     ]
    }
   ],
   "source": [
    "while True:\n",
    "    message = input(\"\")\n",
    "    if message == \"quit\":\n",
    "        break\n",
    "    print(chatbot_response(message))"
   ]
  },
  {
   "cell_type": "code",
   "execution_count": null,
   "metadata": {},
   "outputs": [],
   "source": []
  }
 ],
 "metadata": {
  "kernelspec": {
   "display_name": ".venv",
   "language": "python",
   "name": "python3"
  },
  "language_info": {
   "codemirror_mode": {
    "name": "ipython",
    "version": 3
   },
   "file_extension": ".py",
   "mimetype": "text/x-python",
   "name": "python",
   "nbconvert_exporter": "python",
   "pygments_lexer": "ipython3",
   "version": "3.11.5"
  },
  "orig_nbformat": 4
 },
 "nbformat": 4,
 "nbformat_minor": 2
}
